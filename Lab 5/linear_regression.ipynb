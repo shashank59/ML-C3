{
  "nbformat": 4,
  "nbformat_minor": 0,
  "metadata": {
    "colab": {
      "name": "linear_regression.ipynb",
      "provenance": []
    },
    "kernelspec": {
      "name": "python3",
      "display_name": "Python 3"
    },
    "language_info": {
      "name": "python"
    }
  },
  "cells": [
    {
      "cell_type": "code",
      "execution_count": null,
      "metadata": {
        "id": "1uTbV1NSCXaB"
      },
      "outputs": [],
      "source": [
        "import csv\n",
        "import math"
      ]
    },
    {
      "cell_type": "code",
      "source": [
        "def calculate(X,Y):\n",
        "  sum_x=sum(X)\n",
        "  sum_y=sum(Y)\n",
        "  n=len(Y)\n",
        "  sum_xy=0\n",
        "  for i in range(len(X)):\n",
        "    sum_xy+=X[i]*Y[i]\n",
        "  sum_x2=sum([x**2 for x in X])\n",
        "  denomin=float((n*sum_x2)-(sum_x**2))\n",
        "  # y=y_intercept+slope*x\n",
        "  y_intercept=float((sum_y*sum_x2)-(sum_x*sum_xy))/denomin\n",
        "  slope=float((n*sum_xy)-(sum_x*sum_y))/denomin\n",
        "  return slope,y_intercept"
      ],
      "metadata": {
        "id": "k2TiMHazCpt7"
      },
      "execution_count": null,
      "outputs": []
    },
    {
      "cell_type": "code",
      "source": [
        "filename='/content/insurance.csv'\n",
        "file=open(filename)\n",
        "dataset=csv.reader(file)\n",
        "dataset=list(dataset)\n",
        "X=[]\n",
        "Y=[]\n",
        "for x in dataset:\n",
        "  X.append(x[3])\n",
        "  Y.append(x[len(x)-1])\n",
        "print(dataset[0])\n",
        "x_tag=str(X[0])\n",
        "y_tag=str(Y[0])\n",
        "X=X[1:200]\n",
        "Y=Y[1:200]\n",
        "X=[float(x) for x in X]\n",
        "Y=[float(y) for y in Y]\n",
        "# print(Y)\n",
        "slope,y_intercept=calculate(X,Y)\n",
        "print(slope,y_intercept)"
      ],
      "metadata": {
        "colab": {
          "base_uri": "https://localhost:8080/"
        },
        "id": "Jkg1lDe4C0Jb",
        "outputId": "36011dba-de10-4e97-a209-b11bea90a4d2"
      },
      "execution_count": null,
      "outputs": [
        {
          "output_type": "stream",
          "name": "stdout",
          "text": [
            "['age', 'sex', 'bmi', 'children', 'smoker', 'region', 'charges']\n",
            "299.40712303629675 12768.55599860939\n"
          ]
        }
      ]
    },
    {
      "cell_type": "code",
      "source": [
        "import matplotlib.pyplot as plt\n",
        "plt.scatter(X,Y,marker='o')\n",
        "plt.xlabel(x_tag)\n",
        "plt.ylabel(y_tag)\n",
        "plt.title('Simple Linear Regression')\n",
        "y_pred=[slope*x+y_intercept for x in X]\n",
        "plt.plot(X,y_pred,color='red')\n",
        "plt.show()"
      ],
      "metadata": {
        "colab": {
          "base_uri": "https://localhost:8080/",
          "height": 295
        },
        "id": "2n_sb2eJSPon",
        "outputId": "ea69b3a3-dd72-4f40-8839-c2773ff8424b"
      },
      "execution_count": null,
      "outputs": [
        {
          "output_type": "display_data",
          "data": {
            "text/plain": [
              "<Figure size 432x288 with 1 Axes>"
            ],
            "image/png": "[encoded data removed]"
          },
          "metadata": {
            "needs_background": "light"
          }
        }
      ]
    }
  ]
}